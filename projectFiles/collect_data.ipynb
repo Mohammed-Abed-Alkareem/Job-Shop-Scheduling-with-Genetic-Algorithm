{
 "cells": [
  {
   "cell_type": "code",
   "source": [
    "!unzip projectFiles.zip"
   ],
   "metadata": {
    "colab": {
     "base_uri": "https://localhost:8080/"
    },
    "id": "6JpLQkTOBg5p",
    "outputId": "cbf94266-089b-4368-ff07-1f026bffd7be"
   },
   "id": "6JpLQkTOBg5p",
   "outputs": [],
   "execution_count": null
  },
  {
   "metadata": {
    "id": "f13432e1a84fc9cf"
   },
   "cell_type": "code",
   "source": [
    "from projectFiles.Genetic_Algoritm.genetic_algorithm import genetic_algorithm\n",
    "from projectFiles.Data.read_csv import dictionary_store\n",
    "from projectFiles.Genetic_Algoritm.Fitness_Functions import *\n",
    "from projectFiles.Genetic_Algoritm.Crossover_Functions import *\n",
    "from projectFiles.Genetic_Algoritm.Mutations import scramble_mutation"
   ],
   "id": "f13432e1a84fc9cf",
   "outputs": [],
   "execution_count": null
  },
  {
   "metadata": {
    "id": "d4e6d063d67a8648"
   },
   "cell_type": "code",
   "source": [
    "Jobs = dictionary_store(\"projectFiles/Data/job_shop_schedule.csv\")"
   ],
   "id": "d4e6d063d67a8648",
   "outputs": [],
   "execution_count": null
  },
  {
   "cell_type": "markdown",
   "source": [
    "# Mutation Swap\n"
   ],
   "metadata": {
    "id": "iVpc41joeWX_"
   },
   "id": "iVpc41joeWX_"
  },
  {
   "metadata": {
    "id": "9c71c7c231570c6f"
   },
   "cell_type": "markdown",
   "source": [
    "## partially_mapped_crossover"
   ],
   "id": "9c71c7c231570c6f"
  },
  {
   "metadata": {
    "colab": {
     "base_uri": "https://localhost:8080/"
    },
    "id": "34c066e510bd7c0c",
    "outputId": "99f9f44c-36b7-4666-c574-eae8c328d281"
   },
   "cell_type": "code",
   "source": [
    "import multiprocessing\n",
    "\n",
    "# Function to run\n",
    "def run():\n",
    "    best_chromosome, best_fitness, gen = genetic_algorithm(Jobs, population_size=8, generations=500,\n",
    "                      mutation_rate=0.01, fitness_function=get_makespan, satisfication_vlue=0,\n",
    "                      crossover_function=partially_mapped_crossover)\n",
    "    return gen, best_fitness  # Return both gen and best_fitness\n",
    "\n",
    "# Number of iterations\n",
    "num_iterations = 100\n",
    "\n",
    "# Define a function for parallel execution\n",
    "def parallel_run(index):\n",
    "    print(f\"Running iteration {index}\")\n",
    "    return index, run()  # Return both the iteration index and the result\n",
    "\n",
    "# Number of CPU cores\n",
    "num_cores = multiprocessing.cpu_count()\n",
    "print(num_cores)\n",
    "\n",
    "# Run the loop in parallel\n",
    "with multiprocessing.Pool(num_cores) as pool:\n",
    "    results = pool.map(parallel_run, range(num_iterations))\n",
    "\n",
    "# Sort results based on the iteration index\n",
    "results.sort(key=lambda x: x[0])\n",
    "\n",
    "# Extract gen and best_fitness from each result\n",
    "iterations_gen = [result[1][0] for result in results]\n",
    "iterations_best_fitness = [result[1][1] for result in results]\n",
    "\n",
    "# Print the results (optional)\n",
    "print(iterations_gen)\n",
    "print(iterations_best_fitness)\n"
   ],
   "id": "34c066e510bd7c0c",
   "outputs": [],
   "execution_count": null
  },
  {
   "metadata": {
    "colab": {
     "base_uri": "https://localhost:8080/"
    },
    "id": "6e6f44861bbfb7df",
    "outputId": "c34e9ff8-1965-4137-e4d8-859cae5ab425"
   },
   "cell_type": "code",
   "source": [
    "import pandas as pd\n",
    "\n",
    "iterations_results = [iterations_gen,iterations_best_fitness]  # Insert your list of results here\n",
    "\n",
    "# Combine lists into a DataFrame\n",
    "df = pd.DataFrame({'iterations_gen': iterations_gen, 'iterations_best_fitness': iterations_best_fitness})\n",
    "\n",
    "# File path to save CSV\n",
    "file_path = 'partially_mapped_crossover.csv'\n",
    "\n",
    "# Write DataFrame to CSV\n",
    "df.to_csv(file_path, index=False)\n",
    "\n",
    "print(f\"Data has been saved to {file_path}\")"
   ],
   "id": "6e6f44861bbfb7df",
   "outputs": [],
   "execution_count": null
  },
  {
   "metadata": {
    "id": "7f27762683895625"
   },
   "cell_type": "markdown",
   "source": [
    "## single_segment_crossover"
   ],
   "id": "7f27762683895625"
  },
  {
   "metadata": {
    "colab": {
     "base_uri": "https://localhost:8080/"
    },
    "id": "18705f3e8bac0a3",
    "outputId": "071e5d7c-1c89-4550-a3f8-3f6c9715e810"
   },
   "cell_type": "code",
   "source": [
    "import multiprocessing\n",
    "\n",
    "# Function to run\n",
    "def run():\n",
    "    best_chromosome, best_fitness, gen = genetic_algorithm(Jobs, population_size=8, generations=500,\n",
    "                      mutation_rate=0.01, fitness_function=get_makespan, satisfication_vlue=0,\n",
    "                      crossover_function=single_segment_crossover)\n",
    "    return gen, best_fitness  # Return both gen and best_fitness\n",
    "\n",
    "# Number of iterations\n",
    "num_iterations = 100\n",
    "\n",
    "# Define a function for parallel execution\n",
    "def parallel_run(index):\n",
    "    print(f\"Running iteration {index}\")\n",
    "    return index, run()  # Return both the iteration index and the result\n",
    "\n",
    "# Number of CPU cores\n",
    "num_cores = multiprocessing.cpu_count()\n",
    "print(num_cores)\n",
    "\n",
    "# Run the loop in parallel\n",
    "with multiprocessing.Pool(num_cores) as pool:\n",
    "    results = pool.map(parallel_run, range(num_iterations))\n",
    "\n",
    "# Sort results based on the iteration index\n",
    "results.sort(key=lambda x: x[0])\n",
    "\n",
    "# Extract gen and best_fitness from each result\n",
    "iterations_gen = [result[1][0] for result in results]\n",
    "iterations_best_fitness = [result[1][1] for result in results]\n",
    "\n",
    "# Print the results (optional)\n",
    "print(iterations_gen)\n",
    "print(iterations_best_fitness)\n"
   ],
   "id": "18705f3e8bac0a3",
   "outputs": [],
   "execution_count": null
  },
  {
   "metadata": {
    "colab": {
     "base_uri": "https://localhost:8080/"
    },
    "id": "a54bd7279b82f69a",
    "outputId": "21f19bb0-2a5a-46ef-c109-7dd7f2eb7951"
   },
   "cell_type": "code",
   "source": [
    "import pandas as pd\n",
    "\n",
    "iterations_results = [iterations_gen,iterations_best_fitness]  # Insert your list of results here\n",
    "\n",
    "# Combine lists into a DataFrame\n",
    "df = pd.DataFrame({'iterations_gen': iterations_gen, 'iterations_best_fitness': iterations_best_fitness})\n",
    "\n",
    "\n",
    "# Write DataFrame to CSV\n",
    "file_path = 'single_segment_crossover.csv'\n",
    "\n",
    "df.to_csv(file_path, index=False)\n",
    "\n",
    "print(f\"Data has been saved to {file_path}\")"
   ],
   "id": "a54bd7279b82f69a",
   "outputs": [],
   "execution_count": null
  },
  {
   "metadata": {
    "id": "22f750f642af91ec"
   },
   "cell_type": "markdown",
   "source": [
    "## double_segment_crossover"
   ],
   "id": "22f750f642af91ec"
  },
  {
   "metadata": {
    "colab": {
     "base_uri": "https://localhost:8080/"
    },
    "id": "c09e1f9ebc16533d",
    "outputId": "c8644923-39e4-41d9-81ac-01ae36417027"
   },
   "cell_type": "code",
   "source": [
    "import multiprocessing\n",
    "\n",
    "# Function to run\n",
    "def run():\n",
    "    best_chromosome, best_fitness, gen = genetic_algorithm(Jobs, population_size=8, generations=500,\n",
    "                      mutation_rate=0.01, fitness_function=get_makespan, satisfication_vlue=0,\n",
    "                      crossover_function=double_segment_crossover)\n",
    "    return gen, best_fitness  # Return both gen and best_fitness\n",
    "\n",
    "# Number of iterations\n",
    "num_iterations = 100\n",
    "\n",
    "# Define a function for parallel execution\n",
    "def parallel_run(index):\n",
    "    print(f\"Running iteration {index}\")\n",
    "    return index, run()  # Return both the iteration index and the result\n",
    "\n",
    "# Number of CPU cores\n",
    "num_cores = multiprocessing.cpu_count()\n",
    "print(num_cores)\n",
    "\n",
    "# Run the loop in parallel\n",
    "with multiprocessing.Pool(num_cores) as pool:\n",
    "    results = pool.map(parallel_run, range(num_iterations))\n",
    "\n",
    "# Sort results based on the iteration index\n",
    "results.sort(key=lambda x: x[0])\n",
    "\n",
    "# Extract gen and best_fitness from each result\n",
    "iterations_gen = [result[1][0] for result in results]\n",
    "iterations_best_fitness = [result[1][1] for result in results]\n",
    "\n",
    "# Print the results (optional)\n",
    "print(iterations_gen)\n",
    "print(iterations_best_fitness)\n"
   ],
   "id": "c09e1f9ebc16533d",
   "outputs": [],
   "execution_count": null
  },
  {
   "metadata": {
    "colab": {
     "base_uri": "https://localhost:8080/"
    },
    "id": "90490cd5a18e522b",
    "outputId": "7b831a13-a8dc-48b1-8831-daf640dbb746"
   },
   "cell_type": "code",
   "source": [
    "import pandas as pd\n",
    "\n",
    "iterations_results = [iterations_gen,iterations_best_fitness]  # Insert your list of results here\n",
    "\n",
    "# Combine lists into a DataFrame\n",
    "df = pd.DataFrame({'iterations_gen': iterations_gen, 'iterations_best_fitness': iterations_best_fitness})\n",
    "\n",
    "# File path to save CSV\n",
    "file_path = 'double_segment_crossover.csv'\n",
    "\n",
    "# Write DataFrame to CSV\n",
    "df.to_csv(file_path, index=False)\n",
    "\n",
    "print(f\"Data has been saved to {file_path}\")"
   ],
   "id": "90490cd5a18e522b",
   "outputs": [],
   "execution_count": null
  },
  {
   "metadata": {
    "id": "9a859d60ebe999a"
   },
   "cell_type": "markdown",
   "source": [
    "## alternating_parental_gene_crossover"
   ],
   "id": "9a859d60ebe999a"
  },
  {
   "metadata": {
    "colab": {
     "base_uri": "https://localhost:8080/"
    },
    "id": "65018d468bb5b212",
    "outputId": "fb6e92a8-f89e-422b-b678-dd3e4bb13c73"
   },
   "cell_type": "code",
   "source": [
    "import multiprocessing\n",
    "\n",
    "# Function to run\n",
    "def run():\n",
    "    best_chromosome, best_fitness, gen = genetic_algorithm(Jobs, population_size=8, generations=500,\n",
    "                      mutation_rate=0.01, fitness_function=get_makespan, satisfication_vlue=0,\n",
    "                      crossover_function=alternating_parental_gene_crossover)\n",
    "    return gen, best_fitness  # Return both gen and best_fitness\n",
    "\n",
    "# Number of iterations\n",
    "num_iterations = 100\n",
    "\n",
    "# Define a function for parallel execution\n",
    "def parallel_run(index):\n",
    "    print(f\"Running iteration {index}\")\n",
    "    return index, run()  # Return both the iteration index and the result\n",
    "\n",
    "# Number of CPU cores\n",
    "num_cores = multiprocessing.cpu_count()\n",
    "print(num_cores)\n",
    "\n",
    "# Run the loop in parallel\n",
    "with multiprocessing.Pool(num_cores) as pool:\n",
    "    results = pool.map(parallel_run, range(num_iterations))\n",
    "\n",
    "# Sort results based on the iteration index\n",
    "results.sort(key=lambda x: x[0])\n",
    "\n",
    "# Extract gen and best_fitness from each result\n",
    "iterations_gen = [result[1][0] for result in results]\n",
    "iterations_best_fitness = [result[1][1] for result in results]\n",
    "\n",
    "# Print the results (optional)\n",
    "print(iterations_gen)\n",
    "print(iterations_best_fitness)\n"
   ],
   "id": "65018d468bb5b212",
   "outputs": [],
   "execution_count": null
  },
  {
   "metadata": {
    "colab": {
     "base_uri": "https://localhost:8080/"
    },
    "id": "5a80be220222c6a4",
    "outputId": "be85db94-1520-4b2f-ec4d-e3b64543b875"
   },
   "cell_type": "code",
   "source": [
    "import pandas as pd\n",
    "\n",
    "iterations_results = [iterations_gen,iterations_best_fitness]  # Insert your list of results here\n",
    "\n",
    "# Combine lists into a DataFrame\n",
    "df = pd.DataFrame({'iterations_gen': iterations_gen, 'iterations_best_fitness': iterations_best_fitness})\n",
    "\n",
    "# File path to save CSV\n",
    "file_path = 'alternating_parental_gene_crossover.csv'\n",
    "\n",
    "# Write DataFrame to CSV\n",
    "df.to_csv(file_path, index=False)\n",
    "\n",
    "print(f\"Data has been saved to {file_path}\")"
   ],
   "id": "5a80be220222c6a4",
   "outputs": [],
   "execution_count": null
  },
  {
   "cell_type": "markdown",
   "source": [
    "# Mutation Scrambling\n"
   ],
   "metadata": {
    "id": "wflJFm0xeald"
   },
   "id": "wflJFm0xeald"
  },
  {
   "cell_type": "markdown",
   "source": [
    "##partially_mapped_crossover\n"
   ],
   "metadata": {
    "id": "AzHDX1loen6j"
   },
   "id": "AzHDX1loen6j"
  },
  {
   "cell_type": "code",
   "source": [
    "import multiprocessing\n",
    "\n",
    "# Function to run\n",
    "def run():\n",
    "    best_chromosome, best_fitness, gen = genetic_algorithm(Jobs, population_size=8, generations=500,\n",
    "                      mutation_rate=0.01, fitness_function=get_makespan, satisfication_vlue=0,\n",
    "                      crossover_function=partially_mapped_crossover, mutation_function=scramble_mutation)\n",
    "    return gen, best_fitness  # Return both gen and best_fitness\n",
    "\n",
    "# Number of iterations\n",
    "num_iterations = 100\n",
    "\n",
    "# Define a function for parallel execution\n",
    "def parallel_run(index):\n",
    "    print(f\"Running iteration {index}\")\n",
    "    return index, run()  # Return both the iteration index and the result\n",
    "\n",
    "# Number of CPU cores\n",
    "num_cores = multiprocessing.cpu_count()\n",
    "print(num_cores)\n",
    "\n",
    "# Run the loop in parallel\n",
    "with multiprocessing.Pool(num_cores) as pool:\n",
    "    results = pool.map(parallel_run, range(num_iterations))\n",
    "\n",
    "# Sort results based on the iteration index\n",
    "results.sort(key=lambda x: x[0])\n",
    "\n",
    "# Extract gen and best_fitness from each result\n",
    "iterations_gen = [result[1][0] for result in results]\n",
    "iterations_best_fitness = [result[1][1] for result in results]\n",
    "\n",
    "# Print the results (optional)\n",
    "print(iterations_gen)\n",
    "print(iterations_best_fitness)\n"
   ],
   "metadata": {
    "colab": {
     "base_uri": "https://localhost:8080/"
    },
    "id": "XspJTWMaetUQ",
    "outputId": "c1c3ab85-3890-4db8-aa1e-77d06be49d64"
   },
   "id": "XspJTWMaetUQ",
   "outputs": [],
   "execution_count": null
  },
  {
   "cell_type": "code",
   "source": [
    "import pandas as pd\n",
    "\n",
    "iterations_results = [iterations_gen,iterations_best_fitness]  # Insert your list of results here\n",
    "\n",
    "# Combine lists into a DataFrame\n",
    "df = pd.DataFrame({'iterations_gen': iterations_gen, 'iterations_best_fitness': iterations_best_fitness})\n",
    "\n",
    "# File path to save CSV\n",
    "file_path = 'partially_mapped_crossover_scramble_mutation.csv'\n",
    "\n",
    "# Write DataFrame to CSV\n",
    "df.to_csv(file_path, index=False)\n",
    "\n",
    "print(f\"Data has been saved to {file_path}\")"
   ],
   "metadata": {
    "colab": {
     "base_uri": "https://localhost:8080/"
    },
    "id": "ALXdIJWxj2uv",
    "outputId": "d89ac249-e000-431b-d0f0-a0202d2003f0"
   },
   "id": "ALXdIJWxj2uv",
   "outputs": [],
   "execution_count": null
  },
  {
   "cell_type": "markdown",
   "source": [
    "##single_segment_crossover\n"
   ],
   "metadata": {
    "id": "n5S1TZ-Oj3KK"
   },
   "id": "n5S1TZ-Oj3KK"
  },
  {
   "cell_type": "code",
   "source": [
    "import multiprocessing\n",
    "\n",
    "# Function to run\n",
    "def run():\n",
    "    best_chromosome, best_fitness, gen = genetic_algorithm(Jobs, population_size=8, generations=500,\n",
    "                      mutation_rate=0.01, fitness_function=get_makespan, satisfication_vlue=0,\n",
    "                      crossover_function=single_segment_crossover, mutation_function=scramble_mutation)\n",
    "    return gen, best_fitness  # Return both gen and best_fitness\n",
    "\n",
    "# Number of iterations\n",
    "num_iterations = 100\n",
    "\n",
    "# Define a function for parallel execution\n",
    "def parallel_run(index):\n",
    "    print(f\"Running iteration {index}\")\n",
    "    return index, run()  # Return both the iteration index and the result\n",
    "\n",
    "# Number of CPU cores\n",
    "num_cores = multiprocessing.cpu_count()\n",
    "print(num_cores)\n",
    "\n",
    "# Run the loop in parallel\n",
    "with multiprocessing.Pool(num_cores) as pool:\n",
    "    results = pool.map(parallel_run, range(num_iterations))\n",
    "\n",
    "# Sort results based on the iteration index\n",
    "results.sort(key=lambda x: x[0])\n",
    "\n",
    "# Extract gen and best_fitness from each result\n",
    "iterations_gen = [result[1][0] for result in results]\n",
    "iterations_best_fitness = [result[1][1] for result in results]\n",
    "\n",
    "# Print the results (optional)\n",
    "print(iterations_gen)\n",
    "print(iterations_best_fitness)\n"
   ],
   "metadata": {
    "colab": {
     "base_uri": "https://localhost:8080/"
    },
    "id": "r85C44X_fgWr",
    "outputId": "7078a8d0-d49c-4140-b330-61476d676855"
   },
   "id": "r85C44X_fgWr",
   "outputs": [],
   "execution_count": null
  },
  {
   "cell_type": "code",
   "source": [
    "import pandas as pd\n",
    "\n",
    "iterations_results = [iterations_gen,iterations_best_fitness]  # Insert your list of results here\n",
    "\n",
    "# Combine lists into a DataFrame\n",
    "df = pd.DataFrame({'iterations_gen': iterations_gen, 'iterations_best_fitness': iterations_best_fitness})\n",
    "\n",
    "\n",
    "# Write DataFrame to CSV\n",
    "file_path = 'single_segment_crossover_scramble_mutation.csv'\n",
    "\n",
    "df.to_csv(file_path, index=False)\n",
    "\n",
    "print(f\"Data has been saved to {file_path}\")"
   ],
   "metadata": {
    "colab": {
     "base_uri": "https://localhost:8080/"
    },
    "id": "UYhpQiiwj4fM",
    "outputId": "f6765705-bd3e-4355-f94d-b271a54bbbca"
   },
   "id": "UYhpQiiwj4fM",
   "outputs": [],
   "execution_count": null
  },
  {
   "cell_type": "markdown",
   "source": [
    "##double_segment_crossover\n"
   ],
   "metadata": {
    "id": "RS8OPq6lj5Ki"
   },
   "id": "RS8OPq6lj5Ki"
  },
  {
   "cell_type": "code",
   "source": [
    "import multiprocessing\n",
    "\n",
    "# Function to run\n",
    "def run():\n",
    "    best_chromosome, best_fitness, gen = genetic_algorithm(Jobs, population_size=8, generations=500,\n",
    "                      mutation_rate=0.01, fitness_function=get_makespan, satisfication_vlue=0,\n",
    "                      crossover_function=double_segment_crossover, mutation_function=scramble_mutation)\n",
    "    return gen, best_fitness  # Return both gen and best_fitness\n",
    "\n",
    "# Number of iterations\n",
    "num_iterations = 100\n",
    "\n",
    "# Define a function for parallel execution\n",
    "def parallel_run(index):\n",
    "    print(f\"Running iteration {index}\")\n",
    "    return index, run()  # Return both the iteration index and the result\n",
    "\n",
    "# Number of CPU cores\n",
    "num_cores = multiprocessing.cpu_count()\n",
    "print(num_cores)\n",
    "\n",
    "# Run the loop in parallel\n",
    "with multiprocessing.Pool(num_cores) as pool:\n",
    "    results = pool.map(parallel_run, range(num_iterations))\n",
    "\n",
    "# Sort results based on the iteration index\n",
    "results.sort(key=lambda x: x[0])\n",
    "\n",
    "# Extract gen and best_fitness from each result\n",
    "iterations_gen = [result[1][0] for result in results]\n",
    "iterations_best_fitness = [result[1][1] for result in results]\n",
    "\n",
    "# Print the results (optional)\n",
    "print(iterations_gen)\n",
    "print(iterations_best_fitness)\n"
   ],
   "metadata": {
    "colab": {
     "base_uri": "https://localhost:8080/"
    },
    "id": "9DGEAvnHj5rk",
    "outputId": "1ae6c3d6-0272-4608-a77e-ef81f0912fd5"
   },
   "id": "9DGEAvnHj5rk",
   "outputs": [],
   "execution_count": null
  },
  {
   "cell_type": "code",
   "source": [
    "import pandas as pd\n",
    "\n",
    "iterations_results = [iterations_gen,iterations_best_fitness]  # Insert your list of results here\n",
    "\n",
    "# Combine lists into a DataFrame\n",
    "df = pd.DataFrame({'iterations_gen': iterations_gen, 'iterations_best_fitness': iterations_best_fitness})\n",
    "\n",
    "# File path to save CSV\n",
    "file_path = 'double_segment_crossover_scramble_mutation.csv'\n",
    "\n",
    "# Write DataFrame to CSV\n",
    "df.to_csv(file_path, index=False)\n",
    "\n",
    "print(f\"Data has been saved to {file_path}\")"
   ],
   "metadata": {
    "colab": {
     "base_uri": "https://localhost:8080/"
    },
    "id": "J4UdJyJJkwGv",
    "outputId": "80036b17-8060-4dbe-9bfd-2c1b34542de1"
   },
   "id": "J4UdJyJJkwGv",
   "outputs": [],
   "execution_count": null
  },
  {
   "cell_type": "markdown",
   "source": [
    "##alternating_parental_gene_crossover"
   ],
   "metadata": {
    "id": "c6s4bmk3j6t-"
   },
   "id": "c6s4bmk3j6t-"
  },
  {
   "cell_type": "code",
   "source": [
    "import multiprocessing\n",
    "\n",
    "# Function to run\n",
    "def run():\n",
    "    best_chromosome, best_fitness, gen = genetic_algorithm(Jobs, population_size=8, generations=500,\n",
    "                      mutation_rate=0.01, fitness_function=get_makespan, satisfication_vlue=0,\n",
    "                      crossover_function=alternating_parental_gene_crossover, mutation_function=scramble_mutation)\n",
    "    return gen, best_fitness  # Return both gen and best_fitness\n",
    "\n",
    "# Number of iterations\n",
    "num_iterations = 100\n",
    "\n",
    "# Define a function for parallel execution\n",
    "def parallel_run(index):\n",
    "    print(f\"Running iteration {index}\")\n",
    "    return index, run()  # Return both the iteration index and the result\n",
    "\n",
    "# Number of CPU cores\n",
    "num_cores = multiprocessing.cpu_count()\n",
    "print(num_cores)\n",
    "\n",
    "# Run the loop in parallel\n",
    "with multiprocessing.Pool(num_cores) as pool:\n",
    "    results = pool.map(parallel_run, range(num_iterations))\n",
    "\n",
    "# Sort results based on the iteration index\n",
    "results.sort(key=lambda x: x[0])\n",
    "\n",
    "# Extract gen and best_fitness from each result\n",
    "iterations_gen = [result[1][0] for result in results]\n",
    "iterations_best_fitness = [result[1][1] for result in results]\n",
    "\n",
    "# Print the results (optional)\n",
    "print(iterations_gen)\n",
    "print(iterations_best_fitness)\n"
   ],
   "metadata": {
    "colab": {
     "base_uri": "https://localhost:8080/"
    },
    "id": "ewZGLN8Ej8mN",
    "outputId": "f1072ba5-36b5-4c6a-845c-2518ebba4318"
   },
   "id": "ewZGLN8Ej8mN",
   "outputs": [],
   "execution_count": null
  },
  {
   "cell_type": "code",
   "source": [
    "import pandas as pd\n",
    "\n",
    "iterations_results = [iterations_gen,iterations_best_fitness]  # Insert your list of results here\n",
    "\n",
    "# Combine lists into a DataFrame\n",
    "df = pd.DataFrame({'iterations_gen': iterations_gen, 'iterations_best_fitness': iterations_best_fitness})\n",
    "\n",
    "# File path to save CSV\n",
    "file_path = 'alternating_parental_gene_crossover_scramble_mutation.csv'\n",
    "\n",
    "# Write DataFrame to CSV\n",
    "df.to_csv(file_path, index=False)\n",
    "\n",
    "print(f\"Data has been saved to {file_path}\")"
   ],
   "metadata": {
    "colab": {
     "base_uri": "https://localhost:8080/"
    },
    "id": "OgpY84Bsj8it",
    "outputId": "c4f50de9-b94d-4d50-dc88-6bb9ecc7767b"
   },
   "id": "OgpY84Bsj8it",
   "outputs": [],
   "execution_count": null
  }
 ],
 "metadata": {
  "kernelspec": {
   "display_name": "Python 3",
   "language": "python",
   "name": "python3"
  },
  "language_info": {
   "codemirror_mode": {
    "name": "ipython",
    "version": 2
   },
   "file_extension": ".py",
   "mimetype": "text/x-python",
   "name": "python",
   "nbconvert_exporter": "python",
   "pygments_lexer": "ipython2",
   "version": "2.7.6"
  },
  "colab": {
   "provenance": []
  }
 },
 "nbformat": 4,
 "nbformat_minor": 5
}
