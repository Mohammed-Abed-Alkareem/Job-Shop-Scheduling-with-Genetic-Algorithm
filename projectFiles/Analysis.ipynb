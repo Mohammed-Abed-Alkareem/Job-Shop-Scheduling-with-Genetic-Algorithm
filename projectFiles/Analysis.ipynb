{
 "nbformat": 4,
 "nbformat_minor": 0,
 "metadata": {
  "colab": {
   "provenance": []
  },
  "kernelspec": {
   "name": "python3",
   "display_name": "Python 3"
  },
  "language_info": {
   "name": "python"
  }
 },
 "cells": [
  {
   "cell_type": "code",
   "execution_count": 147,
   "metadata": {
    "id": "h8Ifri7ZCUkG"
   },
   "source": [
    "import pandas as pd\n",
    "import seaborn as sns\n",
    "import matplotlib.pyplot as plt\n",
    "import statistics\n",
    "import math"
   ],
   "outputs": []
  },
  {
   "cell_type": "code",
   "source": [
    "alternating_parental_gene_crossover = pd.read_csv(\"alternating_parental_gene_crossover.csv\")\n",
    "alternating_parental_gene_crossover_scramble_mutation = pd.read_csv(\"alternating_parental_gene_crossover_scramble_mutation.csv\")\n",
    "double_segment_crossover = pd.read_csv(\"double_segment_crossover.csv\")\n",
    "double_segment_crossover_scramble_mutation = pd.read_csv(\"double_segment_crossover_scramble_mutation.csv\")\n",
    "partially_mapped_crossover = pd.read_csv(\"partially_mapped_crossover.csv\")\n",
    "partially_mapped_crossover_scramble_mutation = pd.read_csv(\"partially_mapped_crossover_scramble_mutation.csv\")\n",
    "single_segment_crossover = pd.read_csv(\"single_segment_crossover.csv\")\n",
    "single_segment_crossover_scramble_mutation = pd.read_csv(\"single_segment_crossover_scramble_mutation.csv\")"
   ],
   "metadata": {
    "id": "cekgEKBiDqNj"
   },
   "execution_count": 148,
   "outputs": []
  },
  {
   "cell_type": "code",
   "source": [
    "def custom_normalize(series, min_value, max_value):\n",
    "    return 1 - (series - min_value) / (max_value - min_value)\n",
    "\n",
    "def custom_normalize_and_modify(df, min_value, max_value):\n",
    "    normalized_df = df.copy()\n",
    "    normalized_df['iterations_best_fitness_normalized'] = 1 - (df['iterations_best_fitness'] - min_value) / (max_value - min_value)\n",
    "    normalized_df.loc[(df['iterations_gen'] == 0) & (df['iterations_best_fitness'] != min_value), 'iterations_gen'] = 0\n",
    "    return normalized_df\n",
    "\n",
    "\n",
    "dataframes = {\n",
    "    \"Alternating Swap\": alternating_parental_gene_crossover,\n",
    "    \"Alternating Scramble\": alternating_parental_gene_crossover_scramble_mutation,\n",
    "    \"Double Segment Swap\": double_segment_crossover,\n",
    "    \"Double Segment Scramble\": double_segment_crossover_scramble_mutation,\n",
    "    \"Partially Mapped Swap\": partially_mapped_crossover,\n",
    "    \"Partially Mapped Scramble\": partially_mapped_crossover_scramble_mutation,\n",
    "    \"Single Segment Swap\": single_segment_crossover,\n",
    "    \"Single Segment Scramble\": single_segment_crossover_scramble_mutation\n",
    "}\n",
    "\n",
    "normalized_dataframes_with_modification = {}\n",
    "for key, df in dataframes.items():\n",
    "    normalized_df = custom_normalize_and_modify(df, 120, 134)\n",
    "    normalized_dataframes_with_modification[key] = normalized_df\n"
   ],
   "metadata": {
    "id": "oCyNPW4uGW3q"
   },
   "execution_count": 149,
   "outputs": []
  },
  {
   "cell_type": "code",
   "source": [
    "def compute_statistics(df):\n",
    "    return {\n",
    "        \"Mean Fitness\": df['iterations_best_fitness_normalized'].mean(),\n",
    "        \"Std Fitness\": df['iterations_best_fitness_normalized'].std(),\n",
    "        \"Min Fitness\": df['iterations_best_fitness_normalized'].min(),\n",
    "        \"Max Fitness\": df['iterations_best_fitness_normalized'].max(),\n",
    "        \"Median Fitness\": df['iterations_best_fitness_normalized'].median(),\n",
    "        \"Mean Generation\": df['iterations_gen'].mean(),\n",
    "        \"Std Generation\": df['iterations_gen'].std(),\n",
    "        \"Min Generation\": df['iterations_gen'].min(),\n",
    "        \"Max Generation\": df['iterations_gen'].max(),\n",
    "        \"Median Generation\": df['iterations_gen'].median(),\n",
    "\n",
    "    }\n",
    "\n",
    "stats = {}\n",
    "for key, df in normalized_dataframes_with_modification.items():\n",
    "    stats[key] = compute_statistics(df)\n",
    "\n",
    "stats_df = pd.DataFrame(stats).T\n",
    "stats_df"
   ],
   "metadata": {
    "colab": {
     "base_uri": "https://localhost:8080/",
     "height": 300
    },
    "id": "sj9F19x4HGKZ",
    "outputId": "899aaa1d-2419-4176-ff60-d76858b4ca37"
   },
   "execution_count": 150,
   "outputs": []
  },
  {
   "cell_type": "code",
   "source": [
    "fitness_data = [df['iterations_best_fitness_normalized'].values for df in normalized_dataframes_with_modification.values()]\n",
    "gen_data = [df['iterations_gen'].values for df in normalized_dataframes_with_modification.values()]\n"
   ],
   "metadata": {
    "id": "XjmGRI0RIERz"
   },
   "execution_count": 151,
   "outputs": []
  },
  {
   "cell_type": "code",
   "source": [
    "\n",
    "sns.set(style=\"whitegrid\")\n",
    "\n",
    "plt.figure(figsize=(12, 6))\n",
    "sns.boxplot(data=fitness_data, palette=\"Set2\")\n",
    "plt.xticks(ticks=range(len(normalized_dataframes_with_modification)), labels=normalized_dataframes_with_modification.keys(), rotation=90)\n",
    "plt.ylabel('Normalized Fitness')\n",
    "plt.title('Box Plot of Normalized Fitness for Each Combination')\n",
    "plt.show()"
   ],
   "metadata": {
    "id": "KWdsVQFaNyL5",
    "colab": {
     "base_uri": "https://localhost:8080/",
     "height": 739
    },
    "outputId": "3ee5a194-78b3-46a7-dd79-b4d089ca1b46"
   },
   "execution_count": 152,
   "outputs": []
  },
  {
   "cell_type": "code",
   "source": [
    "\n",
    "plt.figure(figsize=(12, 6))\n",
    "sns.boxplot(data=gen_data, palette=\"Set2\")\n",
    "plt.xticks(ticks=range(len(normalized_dataframes_with_modification)), labels=normalized_dataframes_with_modification.keys(), rotation=90)\n",
    "plt.ylabel('Generations')\n",
    "plt.title('Box Plot of Generations for Each Combination')\n",
    "plt.show()"
   ],
   "metadata": {
    "id": "T8Td5W1fO9Cx",
    "colab": {
     "base_uri": "https://localhost:8080/",
     "height": 739
    },
    "outputId": "8e45d367-2ff2-43ba-c2f2-153341a6d329"
   },
   "execution_count": 153,
   "outputs": []
  },
  {
   "cell_type": "code",
   "source": [
    "\n",
    "fitness_stats_melted = stats_df[[\"Mean Fitness\", \"Median Fitness\", \"Std Fitness\", \"Min Fitness\", \"Max Fitness\"]].reset_index().melt(id_vars='index', var_name='Statistic', value_name='Value')\n",
    "gen_stats_melted = stats_df[[\"Mean Generation\", \"Median Generation\", \"Std Generation\", \"Min Generation\", \"Max Generation\"]].reset_index().melt(id_vars='index', var_name='Statistic', value_name='Value')\n",
    "\n",
    "plt.figure(figsize=(14, 6))\n",
    "sns.barplot(x='index', y='Value', hue='Statistic', data=fitness_stats_melted, palette=\"Set2\")\n",
    "plt.xticks(rotation=45)\n",
    "plt.title('Fitness Statistics for Each Combination')\n",
    "plt.ylabel('Normalized Fitness')\n",
    "plt.xlabel('Combination')\n",
    "plt.legend(title='Statistic')\n",
    "plt.show()"
   ],
   "metadata": {
    "id": "h-UxmlXdO_Em",
    "colab": {
     "base_uri": "https://localhost:8080/",
     "height": 713
    },
    "outputId": "d1c1e563-b62c-4dee-f8e9-a91c706c44fe"
   },
   "execution_count": 154,
   "outputs": []
  },
  {
   "cell_type": "code",
   "source": [
    "plt.figure(figsize=(14, 6))\n",
    "sns.barplot(x='index', y='Value', hue='Statistic', data=gen_stats_melted, palette=\"Set2\")\n",
    "plt.xticks(rotation=45)\n",
    "plt.title('Generation Statistics for Each Combination')\n",
    "plt.ylabel('Generations')\n",
    "plt.xlabel('Combination')\n",
    "plt.legend(title='Statistic')\n",
    "plt.show()"
   ],
   "metadata": {
    "id": "Vbj_92cJPDRj",
    "colab": {
     "base_uri": "https://localhost:8080/",
     "height": 713
    },
    "outputId": "9d734463-a0bd-4a25-a793-2ada7ffe72d6"
   },
   "execution_count": 155,
   "outputs": []
  },
  {
   "cell_type": "code",
   "source": [
    "# Define a function to find the 95th percentile generation for the best fitness\n",
    "def compute_95_percentile_generation(df, global_best_fitness_upper=1, global_best_fitness_lower=1):\n",
    "    # Filter the rows where the best fitness is equal to the global best fitness\n",
    "    filtered_df = df[(df['iterations_best_fitness_normalized'] >= global_best_fitness_upper) & (df['iterations_best_fitness_normalized'] <= global_best_fitness_lower)]\n",
    "    # Compute the 95th percentile of the generation column\n",
    "    percentile_95 = filtered_df['iterations_gen'].quantile(0.95)\n",
    "    return percentile_95\n",
    "\n",
    "# Compute the 95th percentile generation for each dataframe\n",
    "percentiles_95 = {}\n",
    "for key, df in normalized_dataframes_with_modification.items():\n",
    "    percentiles_95[key] = math.ceil(compute_95_percentile_generation(df))\n",
    "\n",
    "# Convert the 95th percentiles to a dataframe for better readability\n",
    "percentiles_95_df = pd.DataFrame.from_dict(percentiles_95, orient='index', columns=['95th Percentile Generation'])\n",
    "\n",
    "# Display the 95th percentile generations dataframe\n",
    "percentiles_95_df"
   ],
   "metadata": {
    "id": "sFqva9L5P5jD",
    "colab": {
     "base_uri": "https://localhost:8080/",
     "height": 300
    },
    "outputId": "b649d93e-4560-42fc-d1cc-a1477f02f2d3"
   },
   "execution_count": 156,
   "outputs": []
  },
  {
   "cell_type": "code",
   "source": [
    "\n",
    "# Define a function to calculate the probability of reaching the best fitness value\n",
    "def compute_probability_of_best_fitness(df,global_best_fitness_upper=1, global_best_fitness_lower=1):\n",
    "    total_runs = len(df)\n",
    "    successful_runs = len(df[(df['iterations_best_fitness_normalized'] == global_best_fitness_upper) & (df['iterations_best_fitness_normalized'] <= global_best_fitness_lower)])\n",
    "    probability = successful_runs / total_runs\n",
    "    return probability\n",
    "\n",
    "# Compute the probability for each dataframe\n",
    "probabilities = {}\n",
    "for key, df in normalized_dataframes_with_modification.items():\n",
    "    probabilities[key] = compute_probability_of_best_fitness(df)\n",
    "\n",
    "probabilities_df = pd.DataFrame.from_dict(probabilities, orient='index', columns=['Probability of Best Fitness'])\n",
    "\n",
    "probabilities_df"
   ],
   "metadata": {
    "id": "taw3TL1Ydf5s",
    "colab": {
     "base_uri": "https://localhost:8080/",
     "height": 300
    },
    "outputId": "c85990df-9f21-4a97-9e20-c72060a724c0"
   },
   "execution_count": 157,
   "outputs": []
  },
  {
   "cell_type": "code",
   "source": [
    "def compute_generations_for_95_percent(probability, generations_95_percent):\n",
    "    if probability == 0:\n",
    "        return float('inf')\n",
    "    generations_needed = math.ceil((1 / probability) * generations_95_percent)\n",
    "    return generations_needed\n",
    "\n",
    "generations_for_95_percent = {}\n",
    "for key in probabilities.keys():\n",
    "    generations_for_95_percent[key] = compute_generations_for_95_percent(probabilities[key], percentiles_95[key])\n",
    "\n",
    "generations_for_95_percent_df = pd.DataFrame.from_dict(generations_for_95_percent, orient='index', columns=['Generations for 95% Probability'])\n",
    "\n",
    "generations_for_95_percent_df"
   ],
   "metadata": {
    "id": "9BPaBHzWeg3l",
    "colab": {
     "base_uri": "https://localhost:8080/",
     "height": 300
    },
    "outputId": "732f6cb6-d7d5-4846-9087-dc413aea7134"
   },
   "execution_count": 158,
   "outputs": []
  },
  {
   "cell_type": "code",
   "source": [
    "sns.set(style=\"whitegrid\")\n",
    "\n",
    "# Draw bar chart with seaborn\n",
    "plt.figure(figsize=(12, 8))\n",
    "bar_plot = sns.barplot(\n",
    "    x=generations_for_95_percent_df.index,\n",
    "    y='Generations for 95% Probability',\n",
    "    data=generations_for_95_percent_df,\n",
    "    palette='pastel'\n",
    ")\n",
    "bar_plot.set_title('Generations Needed for 95% Probability for Each Combination')\n",
    "bar_plot.set_xlabel('Combination')\n",
    "bar_plot.set_ylabel('Generations for 95% Probability')\n",
    "plt.xticks(rotation=45, ha='right')\n",
    "plt.tight_layout()\n",
    "plt.show()"
   ],
   "metadata": {
    "id": "ZMfYFHiVg3eg",
    "colab": {
     "base_uri": "https://localhost:8080/",
     "height": 888
    },
    "outputId": "faa7aa5a-a44f-41a6-eb0c-c3598e8ce970"
   },
   "execution_count": 159,
   "outputs": []
  },
  {
   "cell_type": "code",
   "source": [],
   "metadata": {
    "id": "4SA5csQ7cnSM"
   },
   "execution_count": 159,
   "outputs": []
  }
 ]
}
