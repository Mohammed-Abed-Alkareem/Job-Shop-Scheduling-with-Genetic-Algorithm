{
 "cells": [
  {
   "metadata": {},
   "cell_type": "code",
   "source": [
    "from Genetic_Algoritm.genetic_algorithm import genetic_algorithm\n",
    "from Data.read_csv import dictionary_store\n",
    "from Genetic_Algoritm.Fitness_Functions import *\n",
    "from Genetic_Algoritm.Crossover_Functions import *"
   ],
   "id": "f13432e1a84fc9cf",
   "outputs": [],
   "execution_count": null
  },
  {
   "metadata": {},
   "cell_type": "code",
   "source": "Jobs = dictionary_store(\"Data\\\\job_shop_schedule.csv\")",
   "id": "d4e6d063d67a8648",
   "outputs": [],
   "execution_count": null
  },
  {
   "metadata": {},
   "cell_type": "markdown",
   "source": "## Cross-Over #1",
   "id": "22f750f642af91ec"
  },
  {
   "metadata": {},
   "cell_type": "code",
   "source": [
    "def run():\n",
    "    best_chromosome, best_fitness, gen = genetic_algorithm(Jobs, population_size=8, generations=1000,\n",
    "                      mutation_rate=0.01, fitness_function=get_makespan, satisfication_vlue=0,\n",
    "                      crossover_function=partially_mapped_crossover)\n",
    "    \n",
    "    return gen"
   ],
   "id": "c09e1f9ebc16533d",
   "outputs": [],
   "execution_count": null
  },
  {
   "metadata": {},
   "cell_type": "code",
   "source": [
    "s = []\n",
    "for _ in range(10):\n",
    "    s.append(run())\n",
    "    \n",
    "print(sum(s)/len(s))\n",
    "print(s)"
   ],
   "id": "90490cd5a18e522b",
   "outputs": [],
   "execution_count": null
  },
  {
   "metadata": {},
   "cell_type": "markdown",
   "source": "## Cross-Over #2",
   "id": "9a859d60ebe999a"
  },
  {
   "metadata": {},
   "cell_type": "code",
   "source": [
    "def run1():\n",
    "    best_chromosome, best_fitness, gen = genetic_algorithm(Jobs, population_size=8, generations=1000,\n",
    "                      mutation_rate=0.01, fitness_function=get_makespan, satisfication_vlue=0,\n",
    "                      crossover_function=cross_over)\n",
    "    \n",
    "    return gen"
   ],
   "id": "65018d468bb5b212",
   "outputs": [],
   "execution_count": null
  },
  {
   "metadata": {},
   "cell_type": "code",
   "source": [
    "s1 = []\n",
    "for _ in range(10):\n",
    "    print(_)\n",
    "    s1.append(run1())\n",
    "    \n",
    "print(sum(s1)/len(s1))"
   ],
   "id": "935a0c5a49d70fa7",
   "outputs": [],
   "execution_count": null
  },
  {
   "metadata": {},
   "cell_type": "code",
   "source": "print(s1)",
   "id": "ba2649078bd0e8e",
   "outputs": [],
   "execution_count": null
  },
  {
   "metadata": {},
   "cell_type": "code",
   "source": "",
   "id": "a591e68ec43e8c48",
   "outputs": [],
   "execution_count": null
  }
 ],
 "metadata": {
  "kernelspec": {
   "display_name": "Python 3",
   "language": "python",
   "name": "python3"
  },
  "language_info": {
   "codemirror_mode": {
    "name": "ipython",
    "version": 2
   },
   "file_extension": ".py",
   "mimetype": "text/x-python",
   "name": "python",
   "nbconvert_exporter": "python",
   "pygments_lexer": "ipython2",
   "version": "2.7.6"
  }
 },
 "nbformat": 4,
 "nbformat_minor": 5
}
